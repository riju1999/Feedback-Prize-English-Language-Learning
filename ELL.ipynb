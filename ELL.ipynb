{
 "cells": [
  {
   "cell_type": "code",
   "execution_count": 3,
   "id": "cb2da79f",
   "metadata": {},
   "outputs": [],
   "source": [
    "import numpy as np\n",
    "import pandas as pd\n",
    "from tqdm import tqdm\n",
    "\n",
    "from lightgbm import LGBMRegressor\n",
    "from sklearn import model_selection\n",
    "from sklearn import metrics"
   ]
  },
  {
   "cell_type": "code",
   "execution_count": 4,
   "id": "09939f9e",
   "metadata": {},
   "outputs": [],
   "source": [
    "train = pd.read_csv('train.csv')\n",
    "test = pd.read_csv('test.csv')\n",
    "sample = pd.read_csv('sample_submission.csv')"
   ]
  },
  {
   "cell_type": "code",
   "execution_count": 5,
   "id": "8aefa20a",
   "metadata": {},
   "outputs": [
    {
     "data": {
      "text/html": [
       "<div>\n",
       "<style scoped>\n",
       "    .dataframe tbody tr th:only-of-type {\n",
       "        vertical-align: middle;\n",
       "    }\n",
       "\n",
       "    .dataframe tbody tr th {\n",
       "        vertical-align: top;\n",
       "    }\n",
       "\n",
       "    .dataframe thead th {\n",
       "        text-align: right;\n",
       "    }\n",
       "</style>\n",
       "<table border=\"1\" class=\"dataframe\">\n",
       "  <thead>\n",
       "    <tr style=\"text-align: right;\">\n",
       "      <th></th>\n",
       "      <th>text_id</th>\n",
       "      <th>full_text</th>\n",
       "      <th>cohesion</th>\n",
       "      <th>syntax</th>\n",
       "      <th>vocabulary</th>\n",
       "      <th>phraseology</th>\n",
       "      <th>grammar</th>\n",
       "      <th>conventions</th>\n",
       "    </tr>\n",
       "  </thead>\n",
       "  <tbody>\n",
       "    <tr>\n",
       "      <th>0</th>\n",
       "      <td>0016926B079C</td>\n",
       "      <td>I think that students would benefit from learn...</td>\n",
       "      <td>3.5</td>\n",
       "      <td>3.5</td>\n",
       "      <td>3.0</td>\n",
       "      <td>3.0</td>\n",
       "      <td>4.0</td>\n",
       "      <td>3.0</td>\n",
       "    </tr>\n",
       "    <tr>\n",
       "      <th>1</th>\n",
       "      <td>0022683E9EA5</td>\n",
       "      <td>When a problem is a change you have to let it ...</td>\n",
       "      <td>2.5</td>\n",
       "      <td>2.5</td>\n",
       "      <td>3.0</td>\n",
       "      <td>2.0</td>\n",
       "      <td>2.0</td>\n",
       "      <td>2.5</td>\n",
       "    </tr>\n",
       "    <tr>\n",
       "      <th>2</th>\n",
       "      <td>00299B378633</td>\n",
       "      <td>Dear, Principal\\n\\nIf u change the school poli...</td>\n",
       "      <td>3.0</td>\n",
       "      <td>3.5</td>\n",
       "      <td>3.0</td>\n",
       "      <td>3.0</td>\n",
       "      <td>3.0</td>\n",
       "      <td>2.5</td>\n",
       "    </tr>\n",
       "    <tr>\n",
       "      <th>3</th>\n",
       "      <td>003885A45F42</td>\n",
       "      <td>The best time in life is when you become yours...</td>\n",
       "      <td>4.5</td>\n",
       "      <td>4.5</td>\n",
       "      <td>4.5</td>\n",
       "      <td>4.5</td>\n",
       "      <td>4.0</td>\n",
       "      <td>5.0</td>\n",
       "    </tr>\n",
       "    <tr>\n",
       "      <th>4</th>\n",
       "      <td>0049B1DF5CCC</td>\n",
       "      <td>Small act of kindness can impact in other peop...</td>\n",
       "      <td>2.5</td>\n",
       "      <td>3.0</td>\n",
       "      <td>3.0</td>\n",
       "      <td>3.0</td>\n",
       "      <td>2.5</td>\n",
       "      <td>2.5</td>\n",
       "    </tr>\n",
       "  </tbody>\n",
       "</table>\n",
       "</div>"
      ],
      "text/plain": [
       "        text_id                                          full_text  cohesion  \\\n",
       "0  0016926B079C  I think that students would benefit from learn...       3.5   \n",
       "1  0022683E9EA5  When a problem is a change you have to let it ...       2.5   \n",
       "2  00299B378633  Dear, Principal\\n\\nIf u change the school poli...       3.0   \n",
       "3  003885A45F42  The best time in life is when you become yours...       4.5   \n",
       "4  0049B1DF5CCC  Small act of kindness can impact in other peop...       2.5   \n",
       "\n",
       "   syntax  vocabulary  phraseology  grammar  conventions  \n",
       "0     3.5         3.0          3.0      4.0          3.0  \n",
       "1     2.5         3.0          2.0      2.0          2.5  \n",
       "2     3.5         3.0          3.0      3.0          2.5  \n",
       "3     4.5         4.5          4.5      4.0          5.0  \n",
       "4     3.0         3.0          3.0      2.5          2.5  "
      ]
     },
     "execution_count": 5,
     "metadata": {},
     "output_type": "execute_result"
    }
   ],
   "source": [
    "train.head()"
   ]
  },
  {
   "cell_type": "code",
   "execution_count": 6,
   "id": "c035b56d",
   "metadata": {},
   "outputs": [],
   "source": [
    "target_col = ['cohesion', 'syntax', 'vocabulary', 'phraseology', 'grammar', 'conventions']"
   ]
  },
  {
   "cell_type": "code",
   "execution_count": 7,
   "id": "b236d0af",
   "metadata": {},
   "outputs": [
    {
     "data": {
      "text/plain": [
       "TfidfVectorizer(max_features=5000, sublinear_tf=True)"
      ]
     },
     "execution_count": 7,
     "metadata": {},
     "output_type": "execute_result"
    }
   ],
   "source": [
    "from sklearn.feature_extraction.text import TfidfVectorizer\n",
    "\n",
    "vec = TfidfVectorizer(max_features=5000,smooth_idf=True, sublinear_tf=True) \n",
    "vec.fit(raw_documents=train.full_text)"
   ]
  },
  {
   "cell_type": "code",
   "execution_count": 8,
   "id": "c229cbb8",
   "metadata": {},
   "outputs": [],
   "source": [
    "def extract_vectors(x):\n",
    "    vecs = vec.transform(x)\n",
    "    return vecs.toarray().flatten()\n",
    "\n",
    "train['vecs'] = train.full_text.apply(lambda x: extract_vectors([x]))"
   ]
  },
  {
   "cell_type": "code",
   "execution_count": 9,
   "id": "482d7193",
   "metadata": {},
   "outputs": [
    {
     "data": {
      "text/html": [
       "<div>\n",
       "<style scoped>\n",
       "    .dataframe tbody tr th:only-of-type {\n",
       "        vertical-align: middle;\n",
       "    }\n",
       "\n",
       "    .dataframe tbody tr th {\n",
       "        vertical-align: top;\n",
       "    }\n",
       "\n",
       "    .dataframe thead th {\n",
       "        text-align: right;\n",
       "    }\n",
       "</style>\n",
       "<table border=\"1\" class=\"dataframe\">\n",
       "  <thead>\n",
       "    <tr style=\"text-align: right;\">\n",
       "      <th></th>\n",
       "      <th>text_id</th>\n",
       "      <th>full_text</th>\n",
       "      <th>cohesion</th>\n",
       "      <th>syntax</th>\n",
       "      <th>vocabulary</th>\n",
       "      <th>phraseology</th>\n",
       "      <th>grammar</th>\n",
       "      <th>conventions</th>\n",
       "      <th>vecs</th>\n",
       "    </tr>\n",
       "  </thead>\n",
       "  <tbody>\n",
       "    <tr>\n",
       "      <th>0</th>\n",
       "      <td>0016926B079C</td>\n",
       "      <td>I think that students would benefit from learn...</td>\n",
       "      <td>3.5</td>\n",
       "      <td>3.5</td>\n",
       "      <td>3.0</td>\n",
       "      <td>3.0</td>\n",
       "      <td>4.0</td>\n",
       "      <td>3.0</td>\n",
       "      <td>[0.0, 0.0, 0.0, 0.0, 0.0, 0.0, 0.0, 0.0, 0.0, ...</td>\n",
       "    </tr>\n",
       "    <tr>\n",
       "      <th>1</th>\n",
       "      <td>0022683E9EA5</td>\n",
       "      <td>When a problem is a change you have to let it ...</td>\n",
       "      <td>2.5</td>\n",
       "      <td>2.5</td>\n",
       "      <td>3.0</td>\n",
       "      <td>2.0</td>\n",
       "      <td>2.0</td>\n",
       "      <td>2.5</td>\n",
       "      <td>[0.0, 0.0, 0.0, 0.0, 0.0, 0.0, 0.0, 0.0, 0.0, ...</td>\n",
       "    </tr>\n",
       "    <tr>\n",
       "      <th>2</th>\n",
       "      <td>00299B378633</td>\n",
       "      <td>Dear, Principal\\n\\nIf u change the school poli...</td>\n",
       "      <td>3.0</td>\n",
       "      <td>3.5</td>\n",
       "      <td>3.0</td>\n",
       "      <td>3.0</td>\n",
       "      <td>3.0</td>\n",
       "      <td>2.5</td>\n",
       "      <td>[0.0, 0.0, 0.0, 0.0, 0.0, 0.0, 0.0, 0.0, 0.0, ...</td>\n",
       "    </tr>\n",
       "    <tr>\n",
       "      <th>3</th>\n",
       "      <td>003885A45F42</td>\n",
       "      <td>The best time in life is when you become yours...</td>\n",
       "      <td>4.5</td>\n",
       "      <td>4.5</td>\n",
       "      <td>4.5</td>\n",
       "      <td>4.5</td>\n",
       "      <td>4.0</td>\n",
       "      <td>5.0</td>\n",
       "      <td>[0.0, 0.0, 0.0, 0.0, 0.0, 0.0, 0.0, 0.0, 0.0, ...</td>\n",
       "    </tr>\n",
       "    <tr>\n",
       "      <th>4</th>\n",
       "      <td>0049B1DF5CCC</td>\n",
       "      <td>Small act of kindness can impact in other peop...</td>\n",
       "      <td>2.5</td>\n",
       "      <td>3.0</td>\n",
       "      <td>3.0</td>\n",
       "      <td>3.0</td>\n",
       "      <td>2.5</td>\n",
       "      <td>2.5</td>\n",
       "      <td>[0.0, 0.0, 0.0, 0.0, 0.0, 0.0, 0.0, 0.0, 0.0, ...</td>\n",
       "    </tr>\n",
       "  </tbody>\n",
       "</table>\n",
       "</div>"
      ],
      "text/plain": [
       "        text_id                                          full_text  cohesion  \\\n",
       "0  0016926B079C  I think that students would benefit from learn...       3.5   \n",
       "1  0022683E9EA5  When a problem is a change you have to let it ...       2.5   \n",
       "2  00299B378633  Dear, Principal\\n\\nIf u change the school poli...       3.0   \n",
       "3  003885A45F42  The best time in life is when you become yours...       4.5   \n",
       "4  0049B1DF5CCC  Small act of kindness can impact in other peop...       2.5   \n",
       "\n",
       "   syntax  vocabulary  phraseology  grammar  conventions  \\\n",
       "0     3.5         3.0          3.0      4.0          3.0   \n",
       "1     2.5         3.0          2.0      2.0          2.5   \n",
       "2     3.5         3.0          3.0      3.0          2.5   \n",
       "3     4.5         4.5          4.5      4.0          5.0   \n",
       "4     3.0         3.0          3.0      2.5          2.5   \n",
       "\n",
       "                                                vecs  \n",
       "0  [0.0, 0.0, 0.0, 0.0, 0.0, 0.0, 0.0, 0.0, 0.0, ...  \n",
       "1  [0.0, 0.0, 0.0, 0.0, 0.0, 0.0, 0.0, 0.0, 0.0, ...  \n",
       "2  [0.0, 0.0, 0.0, 0.0, 0.0, 0.0, 0.0, 0.0, 0.0, ...  \n",
       "3  [0.0, 0.0, 0.0, 0.0, 0.0, 0.0, 0.0, 0.0, 0.0, ...  \n",
       "4  [0.0, 0.0, 0.0, 0.0, 0.0, 0.0, 0.0, 0.0, 0.0, ...  "
      ]
     },
     "execution_count": 9,
     "metadata": {},
     "output_type": "execute_result"
    }
   ],
   "source": [
    "train.head()"
   ]
  },
  {
   "cell_type": "code",
   "execution_count": 10,
   "id": "02d5dd91",
   "metadata": {},
   "outputs": [
    {
     "name": "stdout",
     "output_type": "stream",
     "text": [
      "<class 'pandas.core.frame.DataFrame'>\n",
      "RangeIndex: 3911 entries, 0 to 3910\n",
      "Data columns (total 9 columns):\n",
      " #   Column       Non-Null Count  Dtype  \n",
      "---  ------       --------------  -----  \n",
      " 0   text_id      3911 non-null   object \n",
      " 1   full_text    3911 non-null   object \n",
      " 2   cohesion     3911 non-null   float64\n",
      " 3   syntax       3911 non-null   float64\n",
      " 4   vocabulary   3911 non-null   float64\n",
      " 5   phraseology  3911 non-null   float64\n",
      " 6   grammar      3911 non-null   float64\n",
      " 7   conventions  3911 non-null   float64\n",
      " 8   vecs         3911 non-null   object \n",
      "dtypes: float64(6), object(3)\n",
      "memory usage: 275.1+ KB\n"
     ]
    }
   ],
   "source": [
    "train.info()"
   ]
  },
  {
   "cell_type": "code",
   "execution_count": 11,
   "id": "bed43026",
   "metadata": {},
   "outputs": [
    {
     "name": "stderr",
     "output_type": "stream",
     "text": [
      "100%|███████████████████████████████████████████████████████████████████████████████████████████████████████████████████████████████████████| 3911/3911 [00:01<00:00, 1963.72it/s]\n"
     ]
    }
   ],
   "source": [
    "feature_set = []\n",
    "for i, row in tqdm(train.iterrows(), total=len(train)):\n",
    "    vecs = row['vecs']\n",
    "    vals = row[target_col].astype(float)\n",
    "    features = np.hstack([vecs, vals]).flatten()\n",
    "    feature_set.append(features)\n",
    "feature_set = np.array(feature_set)"
   ]
  },
  {
   "cell_type": "code",
   "execution_count": 12,
   "id": "2bb065a5",
   "metadata": {},
   "outputs": [],
   "source": [
    "cohesion_train = feature_set[:, -6]\n",
    "syntax_train = feature_set[:, -5]\n",
    "vocabulary_train = feature_set[:, -4]\n",
    "phraseology_train = feature_set[:, -3]\n",
    "grammar_train = feature_set[:, -2]\n",
    "conventions_train = feature_set[:, -1]\n",
    "\n",
    "X = feature_set[:, :-6]"
   ]
  },
  {
   "cell_type": "code",
   "execution_count": 13,
   "id": "2462635e",
   "metadata": {},
   "outputs": [],
   "source": [
    "cohesion_model = LGBMRegressor(n_estimators=500, max_depth=8, learning_rate=0.1)\n",
    "syntax_model = LGBMRegressor(n_estimators=500, max_depth=8, learning_rate=0.1)\n",
    "vocabulary_model = LGBMRegressor(n_estimators=500, max_depth=8, learning_rate=0.1)\n",
    "phraseology_model = LGBMRegressor(n_estimators=500, max_depth=8, learning_rate=0.1)\n",
    "grammar_model = LGBMRegressor(n_estimators=500, max_depth=8, learning_rate=0.1)\n",
    "conventions_model = LGBMRegressor(n_estimators=500, max_depth=8, learning_rate=0.1)"
   ]
  },
  {
   "cell_type": "code",
   "execution_count": 14,
   "id": "9d5466a0",
   "metadata": {},
   "outputs": [
    {
     "name": "stdout",
     "output_type": "stream",
     "text": [
      "Validating on cohesion\n",
      "Fold 0 ==> Train accuracy: 0.0765 | Validation accuracy: 0.5649\n",
      "Fold 1 ==> Train accuracy: 0.0781 | Validation accuracy: 0.5753\n",
      "Fold 2 ==> Train accuracy: 0.0765 | Validation accuracy: 0.5595\n",
      "Fold 3 ==> Train accuracy: 0.0755 | Validation accuracy: 0.5823\n",
      "Fold 4 ==> Train accuracy: 0.0723 | Validation accuracy: 0.5732\n",
      "END. Training performance: 0.0758 | Validation performance: 0.5710\n",
      "\n",
      "Validating on syntax\n",
      "Fold 0 ==> Train accuracy: 0.0650 | Validation accuracy: 0.5545\n",
      "Fold 1 ==> Train accuracy: 0.0651 | Validation accuracy: 0.5591\n",
      "Fold 2 ==> Train accuracy: 0.0643 | Validation accuracy: 0.5475\n",
      "Fold 3 ==> Train accuracy: 0.0689 | Validation accuracy: 0.5428\n",
      "Fold 4 ==> Train accuracy: 0.0698 | Validation accuracy: 0.5404\n",
      "END. Training performance: 0.0666 | Validation performance: 0.5489\n",
      "\n",
      "Validating on vocabulary\n",
      "Fold 0 ==> Train accuracy: 0.0575 | Validation accuracy: 0.4921\n",
      "Fold 1 ==> Train accuracy: 0.0648 | Validation accuracy: 0.5039\n",
      "Fold 2 ==> Train accuracy: 0.0604 | Validation accuracy: 0.4736\n",
      "Fold 3 ==> Train accuracy: 0.0603 | Validation accuracy: 0.5030\n",
      "Fold 4 ==> Train accuracy: 0.0611 | Validation accuracy: 0.4681\n",
      "END. Training performance: 0.0608 | Validation performance: 0.4881\n",
      "\n",
      "Validating on phraseology\n",
      "Fold 0 ==> Train accuracy: 0.0691 | Validation accuracy: 0.5581\n",
      "Fold 1 ==> Train accuracy: 0.0657 | Validation accuracy: 0.5424\n",
      "Fold 2 ==> Train accuracy: 0.0693 | Validation accuracy: 0.5395\n",
      "Fold 3 ==> Train accuracy: 0.0690 | Validation accuracy: 0.5704\n",
      "Fold 4 ==> Train accuracy: 0.0675 | Validation accuracy: 0.5415\n",
      "END. Training performance: 0.0681 | Validation performance: 0.5504\n",
      "\n",
      "Validating on grammar\n",
      "Fold 0 ==> Train accuracy: 0.0770 | Validation accuracy: 0.6064\n",
      "Fold 1 ==> Train accuracy: 0.0739 | Validation accuracy: 0.5932\n",
      "Fold 2 ==> Train accuracy: 0.0730 | Validation accuracy: 0.6096\n",
      "Fold 3 ==> Train accuracy: 0.0802 | Validation accuracy: 0.6004\n",
      "Fold 4 ==> Train accuracy: 0.0801 | Validation accuracy: 0.5896\n",
      "END. Training performance: 0.0768 | Validation performance: 0.5998\n",
      "\n",
      "Validating on conventions\n",
      "Fold 0 ==> Train accuracy: 0.0777 | Validation accuracy: 0.5868\n",
      "Fold 1 ==> Train accuracy: 0.0777 | Validation accuracy: 0.5818\n",
      "Fold 2 ==> Train accuracy: 0.0749 | Validation accuracy: 0.5698\n",
      "Fold 3 ==> Train accuracy: 0.0813 | Validation accuracy: 0.6041\n",
      "Fold 4 ==> Train accuracy: 0.0836 | Validation accuracy: 0.5560\n",
      "END. Training performance: 0.0790 | Validation performance: 0.5797\n",
      "\n"
     ]
    }
   ],
   "source": [
    "performances_container = []\n",
    "\n",
    "\n",
    "cv_strategy = model_selection.KFold(n_splits=5, shuffle=True, random_state=42)\n",
    "\n",
    "performances = {}\n",
    "\n",
    "for var in [(\"cohesion\", cohesion_train), (\"syntax\", syntax_train), (\"vocabulary\", vocabulary_train), \n",
    "            (\"phraseology\", phraseology_train), (\"grammar\", grammar_train), (\"conventions\", conventions_train)]:\n",
    "    print(f'Validating on {var[0]}')\n",
    "    fold = 0\n",
    "    train_scores = []\n",
    "    val_scores = []\n",
    "    \n",
    "    n_estimators = 500\n",
    "    max_depth = 8\n",
    "    learning_rate = 0.1\n",
    "    \n",
    "    for train_idx, val_idx in cv_strategy.split(X, var[1]):\n",
    "\n",
    "        X_train = X[train_idx]\n",
    "        y_train = var[1][train_idx]\n",
    "\n",
    "        X_val = X[val_idx]\n",
    "        y_val = var[1][val_idx]\n",
    "\n",
    "        model = LGBMRegressor(n_estimators=n_estimators, max_depth=max_depth, learning_rate=learning_rate)\n",
    "        model.fit(X_train, y_train)\n",
    "\n",
    "        train_preds = model.predict(X_train)\n",
    "        val_preds = model.predict(X_val)\n",
    "\n",
    "        train_score = np.sqrt(metrics.mean_squared_error(y_train, train_preds))\n",
    "        val_score = np.sqrt(metrics.mean_squared_error(y_val, val_preds))\n",
    "\n",
    "        train_scores.append(train_score)\n",
    "        val_scores.append(val_score)\n",
    "\n",
    "        print(f\"Fold {fold} ==> Train accuracy: {train_score:0.4f} | Validation accuracy: {val_score:0.4f}\")\n",
    "        fold += 1\n",
    "\n",
    "    training_performance = np.mean(train_scores)\n",
    "    val_performance = np.mean(val_scores)\n",
    "    performances = {\"var\": var[0], \"training_performance\": training_performance, \"val_performance\": val_performance, \"n_estimators\": n_estimators, \"max_depth\": max_depth, \"learning_rate\": learning_rate}\n",
    "    performances_container.append(performances)\n",
    "    print(f\"END. Training performance: {training_performance:0.4f} | Validation performance: {val_performance:0.4f}\\n\")"
   ]
  },
  {
   "cell_type": "code",
   "execution_count": 15,
   "id": "585d16b7",
   "metadata": {},
   "outputs": [
    {
     "data": {
      "text/plain": [
       "LGBMRegressor(max_depth=8, n_estimators=500)"
      ]
     },
     "execution_count": 15,
     "metadata": {},
     "output_type": "execute_result"
    }
   ],
   "source": [
    "cohesion_model.fit(X, cohesion_train)\n",
    "syntax_model.fit(X, syntax_train)\n",
    "vocabulary_model.fit(X, vocabulary_train)\n",
    "phraseology_model.fit(X, phraseology_train)\n",
    "grammar_model.fit(X, grammar_train)\n",
    "conventions_model.fit(X, conventions_train)"
   ]
  },
  {
   "cell_type": "code",
   "execution_count": 16,
   "id": "40a122c7",
   "metadata": {},
   "outputs": [],
   "source": [
    "test['vecs'] = test.full_text.apply(lambda x: extract_vectors([x]))"
   ]
  },
  {
   "cell_type": "code",
   "execution_count": 17,
   "id": "a9018c77",
   "metadata": {},
   "outputs": [
    {
     "name": "stderr",
     "output_type": "stream",
     "text": [
      "100%|█████████████████████████████████████████████████████████████████████████████████████████████████████████████████████████████████████████████| 3/3 [00:00<00:00, 1000.07it/s]\n"
     ]
    }
   ],
   "source": [
    "test_feature_set = []\n",
    "for i, row in tqdm(test.iterrows(), total=len(test)):\n",
    "    test_feature_set.append(row.vecs)\n",
    "test_feature_set = np.array(test_feature_set)"
   ]
  },
  {
   "cell_type": "code",
   "execution_count": 18,
   "id": "571d2b35",
   "metadata": {},
   "outputs": [],
   "source": [
    "cohesion_predictions = cohesion_model.predict(test_feature_set)\n",
    "syntax_predictions = syntax_model.predict(test_feature_set)\n",
    "vocabulary_predictions = vocabulary_model.predict(test_feature_set)\n",
    "phraseology_predictions = phraseology_model.predict(test_feature_set)\n",
    "grammar_predictions = grammar_model.predict(test_feature_set)\n",
    "conventions_predictions = conventions_model.predict(test_feature_set)"
   ]
  },
  {
   "cell_type": "code",
   "execution_count": 19,
   "id": "c33e0f29",
   "metadata": {},
   "outputs": [],
   "source": [
    "submission = sample.copy()\n",
    "submission.cohesion = cohesion_predictions\n",
    "submission.syntax = syntax_predictions\n",
    "submission.vocabulary = vocabulary_predictions\n",
    "submission.phraseology = phraseology_predictions\n",
    "submission.grammar = grammar_predictions\n",
    "submission.conventions = conventions_predictions"
   ]
  },
  {
   "cell_type": "code",
   "execution_count": 20,
   "id": "3d07075e",
   "metadata": {},
   "outputs": [],
   "source": [
    "submission.to_csv(\"submission.csv\", index=False)"
   ]
  },
  {
   "cell_type": "code",
   "execution_count": null,
   "id": "64c4cd79",
   "metadata": {},
   "outputs": [],
   "source": []
  }
 ],
 "metadata": {
  "kernelspec": {
   "display_name": "Python 3 (ipykernel)",
   "language": "python",
   "name": "python3"
  },
  "language_info": {
   "codemirror_mode": {
    "name": "ipython",
    "version": 3
   },
   "file_extension": ".py",
   "mimetype": "text/x-python",
   "name": "python",
   "nbconvert_exporter": "python",
   "pygments_lexer": "ipython3",
   "version": "3.7.9"
  }
 },
 "nbformat": 4,
 "nbformat_minor": 5
}
